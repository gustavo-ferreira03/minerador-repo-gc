{
 "cells": [
  {
   "cell_type": "code",
   "execution_count": 20,
   "metadata": {},
   "outputs": [],
   "source": [
    "from pydriller import Repository\n",
    "import re"
   ]
  },
  {
   "cell_type": "code",
   "execution_count": 24,
   "metadata": {},
   "outputs": [],
   "source": [
    "def scan_repo(repo: str):\n",
    "    result = {\"commits\": [], \"files\": set(), \"lines\": 0}\n",
    "    for commit in Repository(repo).traverse_commits():\n",
    "         result[\"commits\"]\n",
    "         for file in commit.modified_files:\n",
    "            result[\"files\"].add(file.filename)\n",
    "            result[\"lines\"] += file.added_lines\n",
    "            result[\"lines\"] -= file.deleted_lines\n",
    "\n",
    "    return result\n",
    "\n",
    "def get_test_files(files: set):\n",
    "    result = []\n",
    "    for file in files:\n",
    "        if re.search(r\"test\", file):\n",
    "            result.append(file)\n",
    "    return result"
   ]
  },
  {
   "cell_type": "code",
   "execution_count": 18,
   "metadata": {},
   "outputs": [],
   "source": [
    "repo = \"https://github.com/veloren/veloren\"\n",
    "res = scan_repo(repo)"
   ]
  },
  {
   "cell_type": "code",
   "execution_count": 25,
   "metadata": {},
   "outputs": [
    {
     "name": "stdout",
     "output_type": "stream",
     "text": [
      "565015\n",
      "['test_bag_hover.png', 'tt_test_corner_tr.vox', 'test_close_btn.png', 'test.png', 'unittest.sh', 'test_hud.rs', 'testfinisher.ron', 'tests.rs', 'test_char_l_big.png', 'test_menu_top.png', 'test.rs', 'tt_test_edge.vox', 'test_close_btn_hover.png', 'test_bag_press.png', 'tcp_loadtest.rs', 'test_menu_bottom.png', 'test_close_btn_press.png', 'tt_test_edge.png', 'test_char_l.png', 'test_menu_button_blank.png', 'economy_testinput2.ron', 'test_boots.ron', 'test_bag.png', 'head_test2.vox', 'test.ron', 'test_menu_midsection.png', 'economy_testinput.ron', 'tt_test_corner_tr.png', 'test_bag_18_slot.ron', 'test_bag_9_slot.ron', 'head_test1.vox', 'test_bag_contents.png', 'test_world.rs', 'test_helpers.rs']\n"
     ]
    }
   ],
   "source": [
    "print(res[\"lines\"])\n",
    "print(get_test_files(res[\"files\"]))"
   ]
  }
 ],
 "metadata": {
  "kernelspec": {
   "display_name": "Python 3",
   "language": "python",
   "name": "python3"
  },
  "language_info": {
   "codemirror_mode": {
    "name": "ipython",
    "version": 3
   },
   "file_extension": ".py",
   "mimetype": "text/x-python",
   "name": "python",
   "nbconvert_exporter": "python",
   "pygments_lexer": "ipython3",
   "version": "3.10.9"
  }
 },
 "nbformat": 4,
 "nbformat_minor": 2
}
